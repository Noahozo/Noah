{
 "cells": [
  {
   "cell_type": "code",
   "execution_count": 22,
   "id": "793a5125",
   "metadata": {},
   "outputs": [],
   "source": [
    "# 匯入套件\n",
    "from bs4 import BeautifulSoup as bs\n",
    "import requests as req\n",
    "import os ,json\n",
    "from pprint import pprint"
   ]
  },
  {
   "cell_type": "code",
   "execution_count": 41,
   "id": "ff1239f2",
   "metadata": {},
   "outputs": [
    {
     "name": "stdout",
     "output_type": "stream",
     "text": [
      "貼圖:353054150已完成。\n",
      "貼圖:353054151已完成。\n",
      "貼圖:353054152已完成。\n",
      "貼圖:353054153已完成。\n",
      "貼圖:353054154已完成。\n",
      "貼圖:353054155已完成。\n",
      "貼圖:353054156已完成。\n",
      "貼圖:353054157已完成。\n",
      "貼圖:353054158已完成。\n",
      "貼圖:353054159已完成。\n",
      "貼圖:353054160已完成。\n",
      "貼圖:353054161已完成。\n",
      "貼圖:353054162已完成。\n",
      "貼圖:353054163已完成。\n",
      "貼圖:353054164已完成。\n",
      "貼圖:353054165已完成。\n",
      "貼圖:353054166已完成。\n",
      "貼圖:353054167已完成。\n",
      "貼圖:353054168已完成。\n",
      "貼圖:353054169已完成。\n",
      "貼圖:353054170已完成。\n",
      "貼圖:353054171已完成。\n",
      "貼圖:353054172已完成。\n",
      "貼圖:353054173已完成。\n"
     ]
    }
   ],
   "source": [
    "#隨機取得 User - Agent \n",
    "from fake_useragent import UserAgent \n",
    "ua = UserAgent (cache= True) \n",
    "#cache = True 表示從已經儲存的列表中提取\n",
    "# print (ua.random)\n",
    "\n",
    "# 建議儲存圖片的資料夾\n",
    "folderPath = 'line_stickers'\n",
    "if not os.path.exists(folderPath): #如果這個路徑不存在的話\n",
    "    os.makedirs(folderPath) # 請幫我新增這個資料夾 \n",
    "    print (\"程式結束\")\n",
    "\n",
    "# 放圖片用 \n",
    "list_Line = []\n",
    "\n",
    "#自訂標頭 \n",
    "my_headers = {\n",
    "    'user-agent' : ua.random\n",
    "}\n",
    "\n",
    "# 官方 url\n",
    "url = \"https://store.line.me/stickershop/product/18836/zh-Hant\"\n",
    "res = req.get (url , headers = my_headers)\n",
    "soup = bs(res.text , 'lxml')\n",
    "\n",
    "# 找到 li \n",
    "li_elements = soup.select('ul.mdCMN09Ul.FnStickerList > li.mdCMN09Li.FnStickerPreviewItem')\n",
    "    \n",
    "# 逐一取得 li 當中的 data-preview\n",
    "for li in li_elements:\n",
    "    # 取得 data-preview 的值\n",
    "    strJson = li['data-preview']\n",
    "    \n",
    "    # 把屬性的值轉成物件 \n",
    "    obj = json.loads(strJson)\n",
    "    #整理資料\n",
    "    list_Line.append(obj)\n",
    "\n",
    "# 下載圖片\n",
    "for obj in list_Line:\n",
    "    os.system(f\"curl {obj['animationUrl']} -o{folderPath}/{obj['id']}.png\")\n",
    "    print(f\"貼圖:{obj['id']}已完成。\")\n"
   ]
  },
  {
   "cell_type": "code",
   "execution_count": 12,
   "id": "01401f11",
   "metadata": {},
   "outputs": [
    {
     "name": "stdout",
     "output_type": "stream",
     "text": [
      "程式結束\n"
     ]
    }
   ],
   "source": []
  },
  {
   "cell_type": "code",
   "execution_count": null,
   "id": "664e22eb",
   "metadata": {},
   "outputs": [],
   "source": []
  }
 ],
 "metadata": {
  "kernelspec": {
   "display_name": "Python 3 (ipykernel)",
   "language": "python",
   "name": "python3"
  },
  "language_info": {
   "codemirror_mode": {
    "name": "ipython",
    "version": 3
   },
   "file_extension": ".py",
   "mimetype": "text/x-python",
   "name": "python",
   "nbconvert_exporter": "python",
   "pygments_lexer": "ipython3",
   "version": "3.9.12"
  }
 },
 "nbformat": 4,
 "nbformat_minor": 5
}
